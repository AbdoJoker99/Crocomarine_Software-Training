{
  "nbformat": 4,
  "nbformat_minor": 0,
  "metadata": {
    "colab": {
      "provenance": []
    },
    "kernelspec": {
      "name": "python3",
      "display_name": "Python 3"
    },
    "language_info": {
      "name": "python"
    }
  },
  "cells": [
    {
      "cell_type": "code",
      "execution_count": 12,
      "metadata": {
        "id": "TgzMOGar-aDK"
      },
      "outputs": [],
      "source": [
        "import cv2\n",
        "\n",
        "\n",
        "opencv_logo = cv2.imread(\"opencv.png\")\n",
        "croco_logo = cv2.imread(\"crocomarine.png\")\n",
        "\n",
        "\n",
        "scale_percent = 45\n",
        "width = int(opencv_logo.shape[1] * scale_percent / 100)\n",
        "height = int(opencv_logo.shape[0] * scale_percent / 100)\n",
        "opencv_logo = cv2.resize(opencv_logo, (width, height))\n",
        "\n",
        "\n",
        "rows, cols, _ = opencv_logo.shape\n",
        "\n",
        "\n",
        "x, y = 200, 225\n",
        "# =========================\n",
        "\n",
        "\n",
        "roi = croco_logo[y:y+rows, x:x+cols]\n",
        "\n",
        "\n",
        "gray_logo = cv2.cvtColor(opencv_logo, cv2.COLOR_BGR2GRAY)\n",
        "_, mask = cv2.threshold(gray_logo, 10, 255, cv2.THRESH_BINARY)\n",
        "mask_inv = cv2.bitwise_not(mask)\n",
        "\n",
        "\n",
        "croco_bg = cv2.bitwise_and(roi, roi, mask=mask_inv)\n",
        "\n",
        "\n",
        "opencv_fg = cv2.bitwise_and(opencv_logo, opencv_logo, mask=mask)\n",
        "\n",
        "\n",
        "dst = cv2.add(croco_bg, opencv_fg)\n",
        "croco_logo[y:y+rows, x:x+cols] = dst\n",
        "\n",
        "\n",
        "cv2.imwrite(\"merged.png\", croco_logo)\n",
        "cv2.imshow(\"Result\", croco_logo)\n",
        "cv2.waitKey(0)\n",
        "cv2.destroyAllWindows()\n"
      ]
    }
  ]
}